{
 "cells": [
  {
   "cell_type": "code",
   "execution_count": 1,
   "id": "6cc9bb5e",
   "metadata": {},
   "outputs": [
    {
     "name": "stdout",
     "output_type": "stream",
     "text": [
      "[0.05052857142857143, 0.05592571428571429, 0.0716, 0.06735714285714285, 0.06764857142857143, 0.05570571428571429, 0.07767714285714286, 0.05476]\n",
      "Using GPU device 2...\n"
     ]
    }
   ],
   "source": [
    "from torchfunction.device import AutoDevice as device\n",
    "from torchfunction.utils import tonumpy as tn\n",
    "import torch\n",
    "from matplotlib import pyplot as plt\n",
    "import tqdm\n",
    "from tqdm import trange, tqdm\n",
    "import matplotlib as mpl\n",
    "import torch.nn as nn\n",
    "import math\n",
    "import scipy\n",
    "import numpy as np\n",
    "import scipy.stats as stats\n",
    "from dataset import get_standard_spike_input\n",
    "\n",
    "from zytlib import path, table\n",
    "\n",
    "import matplotlib as mpl\n",
    "dcolor = mpl.rcParams[\"axes.prop_cycle\"].by_key()['color']\n",
    "mpl.rcParams['pdf.fonttype'] = 42\n",
    "mpl.rcParams['ps.fonttype'] = 42\n",
    "\n",
    "torch.set_printoptions(precision=2, sci_mode=False, linewidth=140, profile=\"short\")\n",
    "%config InlineBackend.figure_format = \"retina\"\n",
    "\n",
    "mod_color = ['#5B6564', '#4A65B5']"
   ]
  },
  {
   "cell_type": "code",
   "execution_count": 2,
   "id": "b285ed32",
   "metadata": {},
   "outputs": [],
   "source": [
    "from model import lowrank_encoder, reparameter_encoder\n",
    "from dataset import get_spike_input\n"
   ]
  },
  {
   "cell_type": "code",
   "execution_count": 3,
   "id": "4d554fb8",
   "metadata": {},
   "outputs": [],
   "source": [
    "def save_figure(name, path=None, dpi=300, format=\"jpg\"):\n",
    "    if isinstance(format, (list, tuple)):\n",
    "        for f in format:\n",
    "            save_figure(name, path=path, dpi=dpi, format=f)\n",
    "        return\n",
    "    if path is None:\n",
    "        plt.savefig(figure_path / \"{}.{}\".format(name, format), format=format, dpi=dpi)\n",
    "    else:\n",
    "        p = (figure_path / path).mkdir()\n",
    "        plt.savefig(p / \"{}.{}\".format(name, format), format=format, dpi=dpi)\n",
    "figure_path = path(\"figure/figure5/\").mkdir()\n"
   ]
  },
  {
   "cell_type": "code",
   "execution_count": 4,
   "id": "92205831",
   "metadata": {},
   "outputs": [],
   "source": [
    "rnn_hyper = table(tau=100, delta_t=20, encoder_dim=5000, noise_rec=0.00, noise_inp=0.0, input_dim=4,\n",
    "                  input_gain = 1.0, output_dim = 1, max_rank = 3, init_gain = 0.01, n_populations = 3, weights_lr = 0,\n",
    "                  fixed_I = False, fixed_W = False, readout_radius = 4, zero_mean = True, zero_variance = False,\n",
    "                  fixed_population = \"\", fixed_rank = \"\", phi = \"torch.tanh\", symmetric_expanded = None,\n",
    "                  has_bias = False, device = device)"
   ]
  },
  {
   "cell_type": "code",
   "execution_count": 5,
   "id": "59540d59",
   "metadata": {},
   "outputs": [],
   "source": [
    "class modified_encoder(reparameter_encoder):\n",
    "    def C(self):\n",
    "        C = self._C.clone()\n",
    "        C[2, 9, 3] = C[1, 9, 2]\n",
    "        C[2, 9, 4] = C[1, 9, 4]\n",
    "        return C"
   ]
  },
  {
   "cell_type": "code",
   "execution_count": 6,
   "id": "0ec0dfb1",
   "metadata": {},
   "outputs": [],
   "source": [
    "@torch.no_grad()\n",
    "def get_gain_from_rnn(rnn):\n",
    "    rnn.pre_forward()\n",
    "    gain = (1 - rnn.phi(rnn._I + torch.randn_like(rnn._I) * rnn.hyper.noise_rec)[:, :, 2:].pow(2)).mean(1).T.detach()\n",
    "    return gain\n",
    "\n",
    "def np_str(v, p=3):\n",
    "    if isinstance(v, float):\n",
    "        return eval(\"f'{v:.\" + str(p) + \"g}'\")\n",
    "    return [eval(\"f'{x:.\" + str(p) + \"g}'\") for x in tn(v)]"
   ]
  },
  {
   "cell_type": "code",
   "execution_count": 7,
   "id": "abdfe9fb",
   "metadata": {},
   "outputs": [],
   "source": [
    "def print_dict_shapes(data, indent=''):\n",
    "    for key, value in data.items():\n",
    "        if isinstance(value, dict):\n",
    "            print(f\"{indent}{key}:\")\n",
    "            print_dict_shapes(value, indent + '\\t')\n",
    "        elif isinstance(value, list):\n",
    "            print(f\"{indent}{key}: list of length {len(value)}\")\n",
    "            if value:\n",
    "                print(f\"{indent}\\tFirst element:\")\n",
    "                # 创建一个临时字典来递归处理第一个元素\n",
    "                temp_data = {'First element': value[0]}\n",
    "                print_dict_shapes(temp_data, indent + '\\t')\n",
    "        else:\n",
    "            print(f\"{indent}{key}: {getattr(value, 'shape', 'Not an array or tensor')}\")\n",
    "            \n",
    "def cosine_similarity(vector_a, vector_b):\n",
    "    # Compute the dot product\n",
    "    dot_product = torch.dot(vector_a, vector_b)\n",
    "\n",
    "    # Compute the magnitudes (L2 norms)\n",
    "    magnitude_a = torch.norm(vector_a)\n",
    "    magnitude_b = torch.norm(vector_b)\n",
    "\n",
    "    # Handle the corner case where the magnitude of either vector is zero\n",
    "    if magnitude_a == 0 or magnitude_b == 0:\n",
    "        raise ValueError(\"One or both of the vectors have zero magnitude, cannot compute cosine similarity.\")\n",
    "\n",
    "    # Compute the cosine of the angle between the vectors\n",
    "    cosine_angle = dot_product / (magnitude_a * magnitude_b)\n",
    "\n",
    "    return cosine_angle.item()"
   ]
  },
  {
   "cell_type": "code",
   "execution_count": 8,
   "id": "a8951177",
   "metadata": {},
   "outputs": [],
   "source": [
    "def power_method_batch_lowrank(U, V, num_iterations=1000, tolerance=1e-6):\n",
    "    if U.dim() == 3:\n",
    "        batch_size, n, _ = U.shape\n",
    "        V_T = V.permute([0, 2, 1])\n",
    "        # Initialize a random vector for each batch\n",
    "        b_k = torch.rand((batch_size, n), dtype=U.dtype, device=U.device)\n",
    "        b_k = b_k / torch.norm(b_k, dim=1, keepdim=True)  # Normalize\n",
    "\n",
    "        for _ in range(num_iterations):\n",
    "            # Compute A * b_k for each batch\n",
    "            b_k1 = torch.bmm(U, torch.bmm(V_T / n, b_k.unsqueeze(-1))).squeeze(-1)\n",
    "            # Normalize\n",
    "            b_k1_norm = torch.norm(b_k1, dim=1, keepdim=True)\n",
    "            b_k1 = b_k1 / b_k1_norm\n",
    "            # Check for convergence\n",
    "            if torch.norm(b_k1 - b_k) < tolerance:\n",
    "                break\n",
    "            b_k = b_k1\n",
    "\n",
    "        # Compute the corresponding eigenvalues\n",
    "        eigenvalues = torch.bmm(b_k.unsqueeze(1), torch.bmm(U, torch.bmm(V_T, b_k.unsqueeze(-1)))).squeeze(-1).squeeze(-1) / n\n",
    "        # Ensure the eigenvector is normalized\n",
    "        eigenvalues = eigenvalues / torch.sum(b_k**2, dim=1)\n",
    "        return eigenvalues, b_k\n",
    "    else:\n",
    "        U = U.unsqueeze(0)\n",
    "        V = V.unsqueeze(0)\n",
    "        e, b = power_method_batch_lowrank(U, V, num_iterations=num_iterations, tolerance=tolerance)\n",
    "        return e[0], b[0, :]"
   ]
  },
  {
   "cell_type": "code",
   "execution_count": 9,
   "id": "15f58607",
   "metadata": {},
   "outputs": [],
   "source": [
    "C = torch.zeros(3, 11, 7)\n",
    "C[1, 2, 5] = 1\n",
    "C[2, 3, 6] = 1"
   ]
  },
  {
   "cell_type": "code",
   "execution_count": 10,
   "id": "ea503dad",
   "metadata": {
    "scrolled": true
   },
   "outputs": [
    {
     "name": "stdout",
     "output_type": "stream",
     "text": [
      "successfully load the model\n"
     ]
    }
   ],
   "source": [
    "rnn = modified_encoder(R = 7, **rnn_hyper)\n",
    "rnn._C.data.copy_(C)\n",
    "print(\"successfully load the model\")"
   ]
  },
  {
   "cell_type": "code",
   "execution_count": 11,
   "id": "fb94069f",
   "metadata": {},
   "outputs": [
    {
     "name": "stdout",
     "output_type": "stream",
     "text": [
      "tensor([[1.00, 0.60, 1.00],\n",
      "        [1.00, 1.00, 0.61]], device='cuda:2') 0.5966319441795349\n"
     ]
    }
   ],
   "source": [
    "gain_matrix = get_gain_from_rnn(rnn)\n",
    "g = gain_matrix[0, 1].item()\n",
    "print(gain_matrix, g)\n"
   ]
  },
  {
   "cell_type": "code",
   "execution_count": 12,
   "id": "56f74443",
   "metadata": {},
   "outputs": [],
   "source": [
    "def make_c(g, alpha, beta, gamma):\n",
    "    C = torch.zeros(3, 11, 7)\n",
    "\n",
    "    a, b = -g * 3 / (1 - g**2), 3 / (1 - g**2)\n",
    "    c = 3\n",
    "    d = gamma * 3\n",
    "\n",
    "    I_shift = 0\n",
    "    U_shift = 4\n",
    "    V_shift = 7\n",
    "    W_shift = 10\n",
    "\n",
    "    C[1, 2, 5] = 1\n",
    "    C[2, 3, 6] = 1\n",
    "\n",
    "    C[0, I_shift, 0] = 1\n",
    "    C[0, V_shift, 0] = d\n",
    "    C[0, I_shift+1, 1] = 1\n",
    "    C[0, V_shift+1, 1] = d\n",
    "\n",
    "    C[1:3, I_shift, 0] = 1\n",
    "    C[1, V_shift+2, 0] = a * alpha\n",
    "    C[2, V_shift+2, 0] = b * alpha\n",
    "    C[1:3, I_shift+1, 1] = 1\n",
    "    C[1, V_shift+2, 1] = b * alpha\n",
    "    C[2, V_shift+2, 1] = a * alpha\n",
    "\n",
    "    # recurrence\n",
    "    C[0, U_shift+2, 4] = 1\n",
    "    C[0, V_shift+2, 4] = c\n",
    "\n",
    "    # iv -> dv\n",
    "    C[1:3, U_shift, 2] = 1\n",
    "    C[1, V_shift+2, 2] = a * beta\n",
    "    C[2, V_shift+2, 2] = b * beta\n",
    "\n",
    "    C[1:3, U_shift+1, 3] = 1\n",
    "    C[1, V_shift+2, 3] = b * beta\n",
    "    C[2, V_shift+2, 3] = a * beta\n",
    "\n",
    "    C[0, W_shift, 4] = 1\n",
    "    return C"
   ]
  },
  {
   "cell_type": "code",
   "execution_count": 14,
   "id": "d5924785",
   "metadata": {},
   "outputs": [],
   "source": [
    "def get_results(alpha, beta, gamma, g):\n",
    "    results = table()\n",
    "    results.alpha = alpha\n",
    "    results.gamma = gamma\n",
    "    results.beta = beta\n",
    "    results.inp_mod = alpha / (alpha + beta * gamma)\n",
    "    results.sel_mod = beta * gamma / (alpha + beta * gamma)\n",
    "\n",
    "    C = make_c(g, alpha, beta, gamma)\n",
    "    rnn._C.data.copy_(C)\n",
    "    rnn.resample(whiten=True)\n",
    "\n",
    "    all_result = list()\n",
    "    k = 10\n",
    "    \n",
    "    inp_mod_lda = torch.zeros(k, 2)\n",
    "    sel_mod_lda = torch.zeros(k, 2)\n",
    "    \n",
    "    for j in range(k):\n",
    "        result_dict = dict()\n",
    "        with torch.no_grad():\n",
    "            rnn.resample(whiten=True)\n",
    "            sv = [None, None]\n",
    "            I = [[None, None], [None, None]]\n",
    "            choice = [None, None]\n",
    "            gain = [None, None]\n",
    "            rnn_U = rnn._U.reshape(-1, rnn.hyper.max_rank)\n",
    "            rnn_V = rnn._V.reshape(-1, rnn.hyper.max_rank)\n",
    "            rnn_I = rnn._I.reshape(-1, rnn.hyper.input_dim)\n",
    "            spike_input, y, mask, cnds, ctx, cnd_ctx = get_spike_input(256, fixed_t=10)\n",
    "            h = rnn(spike_input.to(device), noise_inp=0)\n",
    "    #         print(h.shape)\n",
    "            for c in [0, 1]:\n",
    "                h1 = h[ctx == c, 10:20, :][:10].clone()\n",
    "                x = h1.view(-1, h1.shape[-1]).detach().clone()\n",
    "                with torch.enable_grad():\n",
    "                    x.requires_grad_()\n",
    "                    slow_point_optim = torch.optim.Adam([x], lr=1e-2)\n",
    "                    ctx_vector = [[0.0, 0, 1, 0], [0.0, 0, 0, 1]][c]\n",
    "                    for k in range(75):\n",
    "                        slow_point_optim.zero_grad()\n",
    "                        v = rnn.velocity(x, torch.tensor(ctx_vector).to(device).view(1, 4).repeat(x.shape[0], 1))\n",
    "                        q = v.pow(2).sum(-1) * 0.5\n",
    "                        loss = q.mean()\n",
    "                        (loss).backward()\n",
    "                        slow_point_optim.step()\n",
    "    #                     tbar.set_postfix({\"loss\": np_str(loss.item()),\n",
    "    #                                       })\n",
    "                K = x[q < 1, :].shape[0]\n",
    "                x1 = x[q < 1, :]\n",
    "                gain1 = (1 - torch.tanh(x1).pow(2))\n",
    "                rnn_GainedU = torch.einsum(\"bn,nr->bnr\", gain1, rnn_U)\n",
    "                rnn_GainedV = rnn_V.unsqueeze(0).repeat(gain1.shape[0], 1, 1)\n",
    "                S = power_method_batch_lowrank(rnn_GainedU, rnn_GainedV)[0]\n",
    "                i = (S-1).pow(2).min(dim=0).indices.item()\n",
    "    #             print(S[i])\n",
    "\n",
    "                x1 = x[q < 1, :][i]\n",
    "                gain1 = (1 - torch.tanh(x1).pow(2))\n",
    "                rnn_GainedU = torch.einsum(\"i,ir->ir\", gain1, rnn_U)\n",
    "                S, V = power_method_batch_lowrank(rnn_V, rnn_GainedU)\n",
    "                sv[c] = V\n",
    "                I[0][c] = gain1 * rnn_I[:, 0]\n",
    "                I[1][c] = gain1 * rnn_I[:, 1]\n",
    "\n",
    "                S, V = power_method_batch_lowrank(rnn_GainedU, rnn_V)\n",
    "                choice[c] = V\n",
    "                gain[c] = gain1\n",
    "            if (sv[0] * I[0][0]).sum() < 0:\n",
    "                sv[0] = -sv[0]\n",
    "            if (choice[0] * sv[0]).sum() < 0:\n",
    "                choice[0] = -choice[0]\n",
    "            if (choice[1] * choice[0]).sum() < 0:\n",
    "                choice[1] = -choice[1]\n",
    "            if (sv[1] * choice[1]).sum() < 0:\n",
    "                sv[1] = -sv[1]\n",
    "            for r in range(2):\n",
    "                sv[r] = sv[r] / (sv[r] * choice[r]).sum()\n",
    "            inp_mod = [None, None]\n",
    "            sel_mod = [None, None]\n",
    "            tot_mod = [None, None]\n",
    "            inp_mod_prop = [None, None]\n",
    "            sel_mod_prop = [None, None]\n",
    "            for r in range(2):\n",
    "                rel_ctx = r\n",
    "                irrel_ctx = 1 - r\n",
    "                inp_mod[r] = ((I[r][rel_ctx] - I[r][irrel_ctx]) * (sv[rel_ctx] + sv[irrel_ctx]) / 2).sum().item()\n",
    "                sel_mod[r] = ((I[r][rel_ctx] + I[r][irrel_ctx]) / 2 * (sv[rel_ctx] - sv[irrel_ctx])).sum().item()\n",
    "                tot_mod[r] = inp_mod[r] + sel_mod[r]\n",
    "                inp_mod_prop[r] = inp_mod[r] / tot_mod[r]\n",
    "                sel_mod_prop[r] = sel_mod[r] / tot_mod[r]\n",
    "        result_dict[\"sv\"] = sv\n",
    "        result_dict[\"I\"] = I\n",
    "        result_dict[\"choice\"] = choice\n",
    "        result_dict[\"gain\"] = gain\n",
    "        result_dict[\"rnn_U\"] = rnn_U\n",
    "        result_dict[\"rnn_V\"] = rnn_V\n",
    "        result_dict[\"rnn_I\"] = rnn_I\n",
    "        result_dict[\"inp_mod\"] = inp_mod\n",
    "        result_dict[\"sel_mod\"] = sel_mod\n",
    "        result_dict[\"tot_mod\"] = tot_mod\n",
    "        result_dict[\"inp_mod_prop\"] = inp_mod_prop\n",
    "        result_dict[\"sel_mod_prop\"] = sel_mod_prop\n",
    "        for r in range(2):\n",
    "            inp_mod_lda[j, r] = inp_mod_prop[r]\n",
    "            sel_mod_lda[j, r] = sel_mod_prop[r]\n",
    "        all_result.append(result_dict)\n",
    "        \n",
    "    sim_sv = torch.zeros(len(all_result))\n",
    "    sim_choice = torch.zeros(len(all_result))\n",
    "    sim_I = torch.zeros(len(all_result), 2)\n",
    "    sim_sv_I = torch.zeros(len(all_result), 2, 2)\n",
    "    sim_sv_choice = torch.zeros(len(all_result), 2)\n",
    "    for i, l in enumerate(all_result):\n",
    "        sim_sv[i] = cosine_similarity(l[\"sv\"][0], l[\"sv\"][1])\n",
    "        sim_choice[i] = cosine_similarity(l[\"choice\"][0], l[\"choice\"][1])\n",
    "        for r in range(2):\n",
    "            sim_I[i, r] = cosine_similarity(l[\"I\"][r][0], l[\"I\"][r][1])\n",
    "        for r in range(2):\n",
    "            for c in range(2):\n",
    "                sim_sv_I[i, r, c] = cosine_similarity(l[\"sv\"][c], l[\"I\"][r][c])\n",
    "        for c in range(2):\n",
    "            sim_sv_choice[i, c] = cosine_similarity(l[\"sv\"][c], l[\"choice\"][c])\n",
    "        \n",
    "    results.lda = all_result\n",
    "    results.inp_mod_lda = inp_mod_lda\n",
    "    results.sel_mod_lda = sel_mod_lda\n",
    "    results.sim_sv = sim_sv\n",
    "    results.sim_choice = sim_choice\n",
    "    results.sim_I = sim_I\n",
    "    results.sim_sv_I = sim_sv_I\n",
    "    results.sim_sv_choice = sim_sv_choice\n",
    "    return results"
   ]
  },
  {
   "cell_type": "code",
   "execution_count": 15,
   "id": "910d8303",
   "metadata": {},
   "outputs": [],
   "source": [
    "results_param_dict = dict()"
   ]
  },
  {
   "cell_type": "code",
   "execution_count": 16,
   "id": "56cf1d14",
   "metadata": {
    "scrolled": true
   },
   "outputs": [
    {
     "name": "stderr",
     "output_type": "stream",
     "text": [
      "100%|██████████| 51/51 [02:42<00:00,  3.18s/it]\n"
     ]
    }
   ],
   "source": [
    "constant = 2\n",
    "beta = 1\n",
    "gamma = 1\n",
    "\n",
    "result_list = list()\n",
    "\n",
    "for alpha in tqdm(np.linspace(0, 2, 51)):\n",
    "#     gamma = (constant - alpha) / beta\n",
    "    results = get_results(alpha, beta, gamma, g)\n",
    "    result_list.append(results)\n",
    "    \n",
    "inp_mod_pred = list()\n",
    "inp_mod_lda = list()\n",
    "for rl in result_list:\n",
    "    inp_mod_pred.append(rl.inp_mod)\n",
    "    inp_mod_lda.append(rl.inp_mod_lda.mean().item())\n",
    "inp_mod_pred = tn(inp_mod_pred)\n",
    "inp_mod_lda = tn(inp_mod_lda)\n",
    "\n",
    "results_param_dict[(None, beta, gamma)] = (result_list, inp_mod_pred, inp_mod_lda)"
   ]
  },
  {
   "cell_type": "code",
   "execution_count": 17,
   "id": "3dd1e8c5",
   "metadata": {},
   "outputs": [
    {
     "name": "stderr",
     "output_type": "stream",
     "text": [
      "100%|██████████| 51/51 [02:44<00:00,  3.22s/it]\n"
     ]
    }
   ],
   "source": [
    "beta = 0.5\n",
    "gamma = 1\n",
    "\n",
    "result_list = list()\n",
    "\n",
    "for alpha in tqdm(np.linspace(0, 2, 51)):\n",
    "#     gamma = (constant - alpha) / beta\n",
    "    results = get_results(alpha, beta, gamma, g)\n",
    "    result_list.append(results)\n",
    "    \n",
    "inp_mod_pred = list()\n",
    "inp_mod_lda = list()\n",
    "for rl in result_list:\n",
    "    inp_mod_pred.append(rl.inp_mod)\n",
    "    inp_mod_lda.append(rl.inp_mod_lda.mean().item())\n",
    "inp_mod_pred = tn(inp_mod_pred)\n",
    "inp_mod_lda = tn(inp_mod_lda)\n",
    "\n",
    "results_param_dict[(None, beta, gamma)] = (result_list, inp_mod_pred, inp_mod_lda)"
   ]
  },
  {
   "cell_type": "code",
   "execution_count": 18,
   "id": "63b5eba6",
   "metadata": {},
   "outputs": [
    {
     "name": "stderr",
     "output_type": "stream",
     "text": [
      "100%|██████████| 51/51 [02:42<00:00,  3.19s/it]\n"
     ]
    }
   ],
   "source": [
    "beta = 2\n",
    "gamma = 1\n",
    "\n",
    "result_list = list()\n",
    "\n",
    "for alpha in tqdm(np.linspace(0, 2, 51)):\n",
    "#     gamma = (constant - alpha) / beta\n",
    "    results = get_results(alpha, beta, gamma, g)\n",
    "    result_list.append(results)\n",
    "    \n",
    "inp_mod_pred = list()\n",
    "inp_mod_lda = list()\n",
    "for rl in result_list:\n",
    "    inp_mod_pred.append(rl.inp_mod)\n",
    "    inp_mod_lda.append(rl.inp_mod_lda.mean().item())\n",
    "inp_mod_pred = tn(inp_mod_pred)\n",
    "inp_mod_lda = tn(inp_mod_lda)\n",
    "\n",
    "results_param_dict[(None, beta, gamma)] = (result_list, inp_mod_pred, inp_mod_lda)"
   ]
  },
  {
   "cell_type": "code",
   "execution_count": null,
   "id": "6a6b5e00",
   "metadata": {
    "scrolled": true
   },
   "outputs": [
    {
     "data": {
      "image/png": "[encoded data removed]",
      "text/plain": [
       "<Figure size 400x400 with 1 Axes>"
      ]
     },
     "metadata": {
      "image/png": {
       "height": 361,
       "width": 383
      }
     },
     "output_type": "display_data"
    }
   ],
   "source": [
    "# Figure 5D, left\n",
    "\n",
    "fig, ax = plt.subplots(figsize=(4, 4))\n",
    "\n",
    "x = tn([r.alpha for r in results_param_dict[(None, 0.5, 1)][0]])\n",
    "\n",
    "dot_s = 15\n",
    "\n",
    "ax.scatter(x, 1-results_param_dict[(None, 0.5, 1)][1], s=dot_s, color=dcolor[0])\n",
    "ax.scatter(x, 1-results_param_dict[(None, 1, 1)][1], s=dot_s, color=dcolor[1])\n",
    "ax.scatter(x, 1-results_param_dict[(None, 2, 1)][1], s=dot_s, color=dcolor[2])\n",
    "\n",
    "# ax.plot(x, results_param_dict[(None, 0.5, 1)][2], lw=1, color=dcolor[0], linestyle=\":\")\n",
    "# ax.plot(x, results_param_dict[(None, 1, 1)][2], lw=1, color=dcolor[1], linestyle=\":\")\n",
    "# ax.plot(x, results_param_dict[(None, 2, 1)][2], lw=1, color=dcolor[2], linestyle=\":\")\n",
    "# ax.plot(x, 1-inp_mod_lda, lw=2, color=dcolor[0])\n",
    "\n",
    "x = np.linspace(0, 2, 201)\n",
    "\n",
    "ax.plot(x, 1-x / (0.5+x), color=dcolor[0])\n",
    "ax.plot(x, 1-x / (1+x), color=dcolor[1])\n",
    "ax.plot(x, 1-x / (2+x), color=dcolor[2])\n",
    "\n",
    "ax.set_xlim(0, 2.02)\n",
    "ax.set_ylim(0, 1.01)\n",
    "\n",
    "ax.spines[[\"top\", \"right\"]].set_visible(False)\n",
    "ax.tick_params(axis=\"x\", labelsize=14)\n",
    "ax.tick_params(axis=\"y\", labelsize=14)\n",
    "\n",
    "save_figure(\"changing alpha\", format=\"pdf\")"
   ]
  },
  {
   "cell_type": "code",
   "execution_count": 21,
   "id": "d92632c9",
   "metadata": {},
   "outputs": [
    {
     "name": "stderr",
     "output_type": "stream",
     "text": [
      "100%|██████████| 51/51 [02:42<00:00,  3.18s/it]\n"
     ]
    }
   ],
   "source": [
    "alpha = 1\n",
    "gamma = 1\n",
    "\n",
    "result_list = list()\n",
    "\n",
    "for beta in tqdm(np.linspace(0, 2, 51)):\n",
    "#     gamma = (constant - alpha) / beta\n",
    "    results = get_results(alpha, beta, gamma, g)\n",
    "    result_list.append(results)\n",
    "    \n",
    "inp_mod_pred = list()\n",
    "inp_mod_lda = list()\n",
    "for rl in result_list:\n",
    "    inp_mod_pred.append(rl.inp_mod)\n",
    "    inp_mod_lda.append(rl.inp_mod_lda.mean().item())\n",
    "inp_mod_pred = tn(inp_mod_pred)\n",
    "inp_mod_lda = tn(inp_mod_lda)\n",
    "\n",
    "results_param_dict[(alpha, None, gamma)] = (result_list, inp_mod_pred, inp_mod_lda)"
   ]
  },
  {
   "cell_type": "code",
   "execution_count": 22,
   "id": "ff6cdb4c",
   "metadata": {},
   "outputs": [
    {
     "name": "stderr",
     "output_type": "stream",
     "text": [
      "100%|██████████| 51/51 [02:43<00:00,  3.22s/it]\n"
     ]
    }
   ],
   "source": [
    "alpha = 0.5\n",
    "gamma = 1\n",
    "\n",
    "result_list = list()\n",
    "\n",
    "for beta in tqdm(np.linspace(0, 2, 51)):\n",
    "#     gamma = (constant - alpha) / beta\n",
    "    results = get_results(alpha, beta, gamma, g)\n",
    "    result_list.append(results)\n",
    "    \n",
    "inp_mod_pred = list()\n",
    "inp_mod_lda = list()\n",
    "for rl in result_list:\n",
    "    inp_mod_pred.append(rl.inp_mod)\n",
    "    inp_mod_lda.append(rl.inp_mod_lda.mean().item())\n",
    "inp_mod_pred = tn(inp_mod_pred)\n",
    "inp_mod_lda = tn(inp_mod_lda)\n",
    "\n",
    "results_param_dict[(alpha, None, gamma)] = (result_list, inp_mod_pred, inp_mod_lda)"
   ]
  },
  {
   "cell_type": "code",
   "execution_count": 23,
   "id": "04075079",
   "metadata": {},
   "outputs": [
    {
     "name": "stderr",
     "output_type": "stream",
     "text": [
      "100%|██████████| 51/51 [02:42<00:00,  3.19s/it]\n"
     ]
    }
   ],
   "source": [
    "alpha = 2\n",
    "gamma = 1\n",
    "\n",
    "result_list = list()\n",
    "\n",
    "for beta in tqdm(np.linspace(0, 2, 51)):\n",
    "#     gamma = (constant - alpha) / beta\n",
    "    results = get_results(alpha, beta, gamma, g)\n",
    "    result_list.append(results)\n",
    "    \n",
    "inp_mod_pred = list()\n",
    "inp_mod_lda = list()\n",
    "for rl in result_list:\n",
    "    inp_mod_pred.append(rl.inp_mod)\n",
    "    inp_mod_lda.append(rl.inp_mod_lda.mean().item())\n",
    "inp_mod_pred = tn(inp_mod_pred)\n",
    "inp_mod_lda = tn(inp_mod_lda)\n",
    "\n",
    "results_param_dict[(alpha, None, gamma)] = (result_list, inp_mod_pred, inp_mod_lda)"
   ]
  },
  {
   "cell_type": "code",
   "execution_count": 24,
   "id": "ebb56867",
   "metadata": {},
   "outputs": [
    {
     "data": {
      "image/png": "[encoded data removed]",
      "text/plain": [
       "<Figure size 400x400 with 1 Axes>"
      ]
     },
     "metadata": {
      "image/png": {
       "height": 361,
       "width": 383
      }
     },
     "output_type": "display_data"
    }
   ],
   "source": [
    "# Figure 5D, right\n",
    "\n",
    "fig, ax = plt.subplots(figsize=(4, 4))\n",
    "\n",
    "x = tn([r.beta for r in results_param_dict[(0.5, None, 1)][0]])\n",
    "\n",
    "dot_s = 15\n",
    "\n",
    "ax.scatter(x, 1-results_param_dict[(0.5, None, 1)][1], s=dot_s, color=dcolor[0])\n",
    "ax.scatter(x, 1-results_param_dict[(1, None, 1)][1], s=dot_s, color=dcolor[1])\n",
    "ax.scatter(x, 1-results_param_dict[(2, None, 1)][1], s=dot_s, color=dcolor[2])\n",
    "\n",
    "# ax.plot(x, results_param_dict[(None, 0.5, 1)][2], lw=1, color=dcolor[0], linestyle=\":\")\n",
    "# ax.plot(x, results_param_dict[(None, 1, 1)][2], lw=1, color=dcolor[1], linestyle=\":\")\n",
    "# ax.plot(x, results_param_dict[(None, 2, 1)][2], lw=1, color=dcolor[2], linestyle=\":\")\n",
    "# ax.plot(x, 1-inp_mod_lda, lw=2, color=dcolor[0])\n",
    "\n",
    "x = np.linspace(0, 2, 201)\n",
    "\n",
    "ax.plot(x, 1-0.5 / (0.5+x), color=dcolor[0])\n",
    "ax.plot(x, 1-1 / (1+x), color=dcolor[1])\n",
    "ax.plot(x, 1-2 / (2+x), color=dcolor[2])\n",
    "\n",
    "ax.set_xlim(0, 2.02)\n",
    "ax.set_ylim(0, 1.01)\n",
    "\n",
    "ax.spines[[\"top\", \"right\"]].set_visible(False)\n",
    "ax.tick_params(axis=\"x\", labelsize=14)\n",
    "ax.tick_params(axis=\"y\", labelsize=14)\n",
    "\n",
    "save_figure(\"changing beta\", format=\"pdf\")"
   ]
  },
  {
   "cell_type": "code",
   "execution_count": 29,
   "id": "e1a3eb78",
   "metadata": {},
   "outputs": [],
   "source": [
    "def get_svs(alpha, beta, gamma, g):\n",
    "    results = table()\n",
    "    results.alpha = alpha\n",
    "    results.gamma = gamma\n",
    "    results.beta = beta\n",
    "    results.inp_mod = alpha / (alpha + beta * gamma)\n",
    "    results.sel_mod = beta * gamma / (alpha + beta * gamma)\n",
    "    C = make_c(g, alpha, beta, gamma)\n",
    "    rnn._C.data.copy_(C)\n",
    "    rnn.resample(whiten=True)\n",
    "\n",
    "    all_result = list()\n",
    "    k = 10\n",
    "\n",
    "    for j in range(k):\n",
    "        result_dict = dict()\n",
    "        with torch.no_grad():\n",
    "            rnn.resample(whiten=True)\n",
    "            sv = [None, None]\n",
    "            I = [[None, None], [None, None]]\n",
    "            choice = [None, None]\n",
    "            gain = [None, None]\n",
    "            rnn_U = rnn._U.reshape(-1, rnn.hyper.max_rank)\n",
    "            rnn_V = rnn._V.reshape(-1, rnn.hyper.max_rank)\n",
    "            rnn_I = rnn._I.reshape(-1, rnn.hyper.input_dim)\n",
    "            spike_input, y, mask, cnds, ctx, cnd_ctx = get_spike_input(256, fixed_t=10)\n",
    "            h = rnn(spike_input.to(device), noise_inp=0)\n",
    "    #         print(h.shape)\n",
    "            for c in [0, 1]:\n",
    "                h1 = h[ctx == c, 10:20, :][:10].clone()\n",
    "                x = h1.view(-1, h1.shape[-1]).detach().clone()\n",
    "                with torch.enable_grad():\n",
    "                    x.requires_grad_()\n",
    "                    slow_point_optim = torch.optim.Adam([x], lr=1e-2)\n",
    "                    ctx_vector = [[0.0, 0, 1, 0], [0.0, 0, 0, 1]][c]\n",
    "                    for k in range(75):\n",
    "                        slow_point_optim.zero_grad()\n",
    "                        v = rnn.velocity(x, torch.tensor(ctx_vector).to(device).view(1, 4).repeat(x.shape[0], 1))\n",
    "                        q = v.pow(2).sum(-1) * 0.5\n",
    "                        loss = q.mean()\n",
    "                        (loss).backward()\n",
    "                        slow_point_optim.step()\n",
    "    #                     tbar.set_postfix({\"loss\": np_str(loss.item()),\n",
    "    #                                       })\n",
    "                K = x[q < 1, :].shape[0]\n",
    "                x1 = x[q < 1, :]\n",
    "                gain1 = (1 - torch.tanh(x1).pow(2))\n",
    "                rnn_GainedU = torch.einsum(\"bn,nr->bnr\", gain1, rnn_U)\n",
    "                rnn_GainedV = rnn_V.unsqueeze(0).repeat(gain1.shape[0], 1, 1)\n",
    "                S = power_method_batch_lowrank(rnn_GainedU, rnn_GainedV)[0]\n",
    "                i = (S-1).pow(2).min(dim=0).indices.item()\n",
    "    #             print(S[i])\n",
    "\n",
    "                x1 = x[q < 1, :][i]\n",
    "                gain1 = (1 - torch.tanh(x1).pow(2))\n",
    "                rnn_GainedU = torch.einsum(\"i,ir->ir\", gain1, rnn_U)\n",
    "                S, V = power_method_batch_lowrank(rnn_V, rnn_GainedU)\n",
    "                sv[c] = V\n",
    "                I[0][c] = gain1 * rnn_I[:, 0]\n",
    "                I[1][c] = gain1 * rnn_I[:, 1]\n",
    "\n",
    "                S, V = power_method_batch_lowrank(rnn_GainedU, rnn_V)\n",
    "                choice[c] = V\n",
    "                gain[c] = gain1\n",
    "            if (sv[0] * I[0][0]).sum() < 0:\n",
    "                sv[0] = -sv[0]\n",
    "            if (choice[0] * sv[0]).sum() < 0:\n",
    "                choice[0] = -choice[0]\n",
    "            if (choice[1] * choice[0]).sum() < 0:\n",
    "                choice[1] = -choice[1]\n",
    "            if (sv[1] * choice[1]).sum() < 0:\n",
    "                sv[1] = -sv[1]\n",
    "            for r in range(2):\n",
    "                sv[r] = sv[r] / (sv[r] * choice[r]).sum()\n",
    "            sv_gt = [None, None]\n",
    "            sv_gt[0] = rnn_V[:, 0] * beta + rnn_V[:, 1] * 0 + rnn_V[:, 2]\n",
    "            sv_gt[1] = rnn_V[:, 0] * 0 + rnn_V[:, 1] * beta + rnn_V[:, 2]\n",
    "            result_dict[\"sv\"] = sv\n",
    "            result_dict[\"sv_gt\"] = sv_gt\n",
    "    #         print(cosine_similarity(sv_gt[0], sv[0]), cosine_similarity(sv_gt[1], sv[1]))\n",
    "        all_result.append(result_dict)\n",
    "    results[\"results\"] = all_result\n",
    "    return results"
   ]
  },
  {
   "cell_type": "code",
   "execution_count": 30,
   "id": "b324b3ca",
   "metadata": {},
   "outputs": [
    {
     "name": "stderr",
     "output_type": "stream",
     "text": [
      "100%|██████████| 100/100 [05:24<00:00,  3.24s/it]\n"
     ]
    }
   ],
   "source": [
    "K = 100\n",
    "cs_matrix = torch.zeros(K, 10, 2)\n",
    "for k in trange(K):\n",
    "    alpha, beta, gamma = torch.rand(3) * 3\n",
    "    rss = get_svs(alpha, beta, gamma, g)[\"results\"]\n",
    "    for i in range(10):\n",
    "        r = rss[i]\n",
    "        sv = r[\"sv\"]\n",
    "        sv_gt = r[\"sv_gt\"]\n",
    "        for j in range(2):\n",
    "            cs_matrix[k, i, j] = cosine_similarity(sv_gt[j], sv[j])"
   ]
  },
  {
   "cell_type": "code",
   "execution_count": 31,
   "id": "8305e402",
   "metadata": {},
   "outputs": [
    {
     "data": {
      "image/png": "[encoded data removed]",
      "text/plain": [
       "<Figure size 300x300 with 1 Axes>"
      ]
     },
     "metadata": {
      "image/png": {
       "height": 286,
       "width": 327
      }
     },
     "output_type": "display_data"
    }
   ],
   "source": [
    "# Figure 6B\n",
    "\n",
    "fig, ax = plt.subplots(figsize=(3,3))\n",
    "\n",
    "ax.hist(cs_matrix[:, :, 0].flatten(), alpha=0.4, color=mod_color[0])\n",
    "ax.hist(cs_matrix[:, :, 1].flatten(), alpha=0.4, color=mod_color[1])\n",
    "\n",
    "ax.spines[[\"right\", \"top\"]].set_visible(False)\n",
    "ax.set_xlim(0.99, 1)\n",
    "\n",
    "ax.tick_params(axis=\"x\", labelsize=14)\n",
    "ax.tick_params(axis=\"y\", labelsize=14)\n",
    "\n",
    "save_figure(\"cos angle between estimated and theory sv\", format=\"pdf\")"
   ]
  },
  {
   "cell_type": "code",
   "execution_count": null,
   "id": "8b0833a9",
   "metadata": {},
   "outputs": [],
   "source": []
  }
 ],
 "metadata": {
  "kernelspec": {
   "display_name": "Python 3",
   "language": "python",
   "name": "python3"
  },
  "language_info": {
   "codemirror_mode": {
    "name": "ipython",
    "version": 3
   },
   "file_extension": ".py",
   "mimetype": "text/x-python",
   "name": "python",
   "nbconvert_exporter": "python",
   "pygments_lexer": "ipython3",
   "version": "3.9.16"
  }
 },
 "nbformat": 4,
 "nbformat_minor": 5
}
